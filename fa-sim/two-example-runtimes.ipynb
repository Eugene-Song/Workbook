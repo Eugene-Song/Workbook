{
 "cells": [
  {
   "cell_type": "markdown",
   "metadata": {},
   "source": [
    "***\n",
    "\n",
    "## Two example runtimes\n",
    "\n",
    ">CSC427, semester 202 (jan-may 2020)\n",
    "<br><br>\n",
    "burton rosenberg\n",
    "<br>\n",
    "univ of miami\n",
    "<br>\n",
    "(c) 2020 all rights reserved\n",
    "<br><br>\n",
    "16 April 2020\n",
    "\n",
    "***\n",
    "\n"
   ]
  },
  {
   "cell_type": "markdown",
   "metadata": {},
   "source": [
    "### Finding the maximum number in a list\n",
    "\n",
    "Finding the maximum number is a list of $n$ elements is $O(n)$. It is has _linear_ complexity.\n",
    "\n",
    "It means more or less that the number of lines of code run in order to complete the task is \n",
    "$k\\, n$, for some integer $k$.\n",
    "\n",
    "A simple way to think of alogrithms with linear complexity is they only need to sweep through the\n",
    "data looking at each item once, and they can come to a conclusion.\n",
    "\n",
    "In order to test the run time, we will focus not on exact time (aka wall clock time), or accounting\n",
    "for all lines of code. We will consider blocks of code that do not have complicated internal \n",
    "algorithms ( code that only does simple things such as \"check for greater than\", \n",
    "or \"set this variable to that value\") having a fixed run time, in some unit.\n",
    "\n",
    "What we want to know is how often runs the block of statements. If it is a fixed number of times,\n",
    "we just set aside $O(1)$ time. But if the block is inside a loop we have to count the number of times\n",
    "through the loop, as a multiplier to the time to run the block once.\n",
    "\n",
    "And in this case, all we report is the number of times the we run through the loop. This is what\n",
    "gives us the $n$ in $O(n)$.\n"
   ]
  },
  {
   "cell_type": "code",
   "execution_count": 1,
   "metadata": {},
   "outputs": [],
   "source": [
    "import random\n",
    "\n",
    "### write the get_max program\n",
    "\n",
    "count = 0\n",
    "\n",
    "def get_max(l):\n",
    "    global count\n",
    "    l_n = len(l)\n",
    "    assert(l_n>0)  # i really don't care about empty lists\n",
    "    max_so_far = l[0]\n",
    "    index_so_far = 0\n",
    "    for i in range(1,l_n):\n",
    "        count += 1\n",
    "        if l[i]>max_so_far:\n",
    "            max_so_far = l[i]\n",
    "            index_so_far = i\n",
    "    return (index_so_far,max_so_far)\n"
   ]
  },
  {
   "cell_type": "code",
   "execution_count": 2,
   "metadata": {},
   "outputs": [
    {
     "name": "stdout",
     "output_type": "stream",
     "text": [
      "[86, 43, 18, 50, 68, 22, 66, 63, 6, 47]\n",
      "len: 10, steps: 9 max: 86 at: 0\n"
     ]
    },
    {
     "data": {
      "text/plain": [
       "9"
      ]
     },
     "execution_count": 2,
     "metadata": {},
     "output_type": "execute_result"
    }
   ],
   "source": [
    "#\n",
    "# test the get_max program\n",
    "#\n",
    "\n",
    "def test_get_max(n,verbose=True):\n",
    "    global count\n",
    "    test_list = [random.randint(0,100) for i in range(n)]\n",
    "    count = 0\n",
    "    (i,m) = get_max(test_list)\n",
    "    if verbose: print(test_list)\n",
    "    if verbose: print(\"len: {}, steps: {} max: {} at: {}\".format(n,count,m, i))\n",
    "    return count\n",
    "\n",
    "\n",
    "test_get_max(10)"
   ]
  },
  {
   "cell_type": "code",
   "execution_count": 3,
   "metadata": {},
   "outputs": [
    {
     "name": "stdout",
     "output_type": "stream",
     "text": [
      "steps: 0\tpredicted: 0.0\n",
      "steps: 1\tpredicted: 1.0\n",
      "steps: 2\tpredicted: 2.0\n",
      "steps: 3\tpredicted: 3.0\n",
      "steps: 4\tpredicted: 4.0\n",
      "steps: 5\tpredicted: 5.0\n",
      "steps: 6\tpredicted: 6.0\n",
      "steps: 7\tpredicted: 7.0\n",
      "steps: 8\tpredicted: 8.0\n",
      "steps: 9\tpredicted: 9.0\n",
      "steps: 10\tpredicted: 10.0\n",
      "steps: 11\tpredicted: 11.0\n",
      "steps: 12\tpredicted: 12.0\n",
      "steps: 13\tpredicted: 13.0\n",
      "steps: 14\tpredicted: 14.0\n",
      "steps: 15\tpredicted: 15.0\n"
     ]
    }
   ],
   "source": [
    "#\n",
    "# time the get_max program\n",
    "#\n",
    "\n",
    "def run_time_get_max(n):\n",
    "     for i in range(1,n):\n",
    "        rt = test_get_max(i,verbose=False)\n",
    "        predicted_rt = i-1.  \n",
    "        # it is an O(n) alg. so proportional to i\n",
    "        print(\"steps: {}\\tpredicted: {}\".format(rt,predicted_rt))\n",
    "\n",
    "run_time_get_max(17)\n"
   ]
  },
  {
   "cell_type": "markdown",
   "metadata": {},
   "source": [
    "### Sorting a list using selection sort\n",
    "\n",
    "The selection sort algorithm sorts list of n elements is O(n^2). It is has _quadratic_ complexity.\n",
    "\n",
    "It means more or less that the number of lines of code run in order to complete the task is \n",
    "$k\\, n^2$, for some integer $k$.\n",
    "\n",
    "A simple way to think about algorithms with quadratic complexity is that they have to do something\n",
    "about all pairs in the input. In the case of sort, we have to look at each pair and decide which\n",
    "in the pair is larger.\n"
   ]
  },
  {
   "cell_type": "code",
   "execution_count": 4,
   "metadata": {},
   "outputs": [],
   "source": [
    "#\n",
    "# write the selection_sort program\n",
    "#\n",
    "\n",
    "def selection_sort(l):\n",
    "    global count\n",
    "    l_n = len(l)\n",
    "    assert(l_n>0)\n",
    "    sorted_list = []\n",
    "    while len(l)>0:\n",
    "        (i,m) = get_max(l)\n",
    "        del l[i]\n",
    "        sorted_list += [m]\n",
    "    return sorted_list\n"
   ]
  },
  {
   "cell_type": "code",
   "execution_count": 5,
   "metadata": {},
   "outputs": [
    {
     "name": "stdout",
     "output_type": "stream",
     "text": [
      "test: [49, 84, 4, 99, 49, 100, 72, 25, 76, 75]\n",
      "sorted: [100, 99, 84, 76, 75, 72, 49, 49, 25, 4]\n",
      "steps: 45\n"
     ]
    },
    {
     "data": {
      "text/plain": [
       "45"
      ]
     },
     "execution_count": 5,
     "metadata": {},
     "output_type": "execute_result"
    }
   ],
   "source": [
    "#\n",
    "# test the selection_sort program\n",
    "#\n",
    "\n",
    "def test_selection_sort(n,verbose=True):\n",
    "    global count\n",
    "    test_list = [random.randint(0,100) for i in range(n)]\n",
    "    count = 0\n",
    "    if verbose: print(\"test: {}\".format(test_list))\n",
    "    result = selection_sort(test_list)\n",
    "    if verbose: print(\"sorted: {}\".format(result))\n",
    "    if verbose: print(\"steps: {}\".format(count))\n",
    "    return count\n",
    "\n",
    "test_selection_sort(10)"
   ]
  },
  {
   "cell_type": "code",
   "execution_count": 6,
   "metadata": {},
   "outputs": [
    {
     "name": "stdout",
     "output_type": "stream",
     "text": [
      "steps: 0\tpredicted: 0\n",
      "steps: 1\tpredicted: 1\n",
      "steps: 3\tpredicted: 3\n",
      "steps: 6\tpredicted: 6\n",
      "steps: 10\tpredicted: 10\n",
      "steps: 15\tpredicted: 15\n",
      "steps: 21\tpredicted: 21\n",
      "steps: 28\tpredicted: 28\n",
      "steps: 36\tpredicted: 36\n",
      "steps: 45\tpredicted: 45\n",
      "steps: 55\tpredicted: 55\n",
      "steps: 66\tpredicted: 66\n",
      "steps: 78\tpredicted: 78\n",
      "steps: 91\tpredicted: 91\n",
      "steps: 105\tpredicted: 105\n",
      "steps: 120\tpredicted: 120\n"
     ]
    }
   ],
   "source": [
    "#\n",
    "# time the selection_sort program\n",
    "#\n",
    "\n",
    "def run_time_get_max(n):\n",
    "     for i in range(1,n):\n",
    "        rt = test_get_max(i,verbose=False)\n",
    "        print(\"steps: {}\\tpredicted: {}\".format(rt,i-1))\n",
    "\n",
    "def run_time_selection_sort(n):\n",
    "    for i in range(1,n):\n",
    "        rt = test_selection_sort(i,verbose=False)\n",
    "        # it is a quadradict alg. so proportional to i^2\n",
    "        predicted_rt = int(i*(i-1)/2) \n",
    "        print(\"steps: {}\\tpredicted: {}\".format(rt,predicted_rt))\n",
    "\n",
    "run_time_selection_sort(17)"
   ]
  },
  {
   "cell_type": "code",
   "execution_count": null,
   "metadata": {},
   "outputs": [],
   "source": []
  }
 ],
 "metadata": {
  "kernelspec": {
   "display_name": "Python 3",
   "language": "python",
   "name": "python3"
  },
  "language_info": {
   "codemirror_mode": {
    "name": "ipython",
    "version": 3
   },
   "file_extension": ".py",
   "mimetype": "text/x-python",
   "name": "python",
   "nbconvert_exporter": "python",
   "pygments_lexer": "ipython3",
   "version": "3.6.4"
  }
 },
 "nbformat": 4,
 "nbformat_minor": 2
}
